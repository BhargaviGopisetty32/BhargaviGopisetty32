{
 "cells": [
  {
   "cell_type": "markdown",
   "metadata": {},
   "source": [
    "# Data Structures\n",
    "+ Lists\n",
    "- Tuples\n",
    "+ Sets"
   ]
  },
  {
   "cell_type": "markdown",
   "metadata": {},
   "source": [
    "# List\n",
    "+ List is a sequences,typically used to store collections of homogeneous items\n",
    "- Lists are mutable\n",
    "+ Using a pair of square brackets to denote the empty list:[]\n",
    "- Using square brackets,seperating items with commas:[a],[a,b,c]\n",
    "+ Using a List comprehension : [x for x in iterable]\n",
    "- Using the type constructor : list() or list(iterable)"
   ]
  },
  {
   "cell_type": "markdown",
   "metadata": {},
   "source": [
    "# Tuples\n"
   ]
  },
  {
   "cell_type": "markdown",
   "metadata": {},
   "source": [
    "# sets"
   ]
  },
  {
   "cell_type": "code",
   "execution_count": 15,
   "metadata": {},
   "outputs": [
    {
     "name": "stdout",
     "output_type": "stream",
     "text": [
      "[1, 2, 3, 4, 5, 6, 'hello', 'hru', 'Welcome', 7, 8, 9]\n",
      "1\n",
      "hello\n",
      "9\n",
      "[1, 2, 3, 4, 5, 6, 'hello', 'hru', 'Welcome', 7, 8, 9]\n",
      "['hello', 'hru', 'Welcome']\n",
      "[9, 8, 7, 'Welcome', 'hru', 'hello', 6, 5, 4, 3, 2, 1]\n",
      "[9, 8]\n"
     ]
    }
   ],
   "source": [
    "# lists\n",
    "l1 = [1,2,3,4,5,6,'hello','hru']\n",
    "# How to add two lists\n",
    "l2 = ['Welcome',7,8,9]\n",
    "l3 = l1+l2\n",
    "print(l3) # print(l1+l2)\n",
    "\n",
    "# How to find Index Values []\n",
    "print(l3[0])\n",
    "print(l3[6])\n",
    "print(l3[-1])\n",
    "\n",
    "# List Slicing:\n",
    "print(l3[0:])\n",
    "print(l3[6:9])\n",
    "print(l3[::-1])\n",
    "print(l3[11:9:-1])"
   ]
  },
  {
   "cell_type": "code",
   "execution_count": 19,
   "metadata": {},
   "outputs": [
    {
     "data": {
      "text/plain": [
       "['__add__',\n",
       " '__class__',\n",
       " '__contains__',\n",
       " '__delattr__',\n",
       " '__delitem__',\n",
       " '__dir__',\n",
       " '__doc__',\n",
       " '__eq__',\n",
       " '__format__',\n",
       " '__ge__',\n",
       " '__getattribute__',\n",
       " '__getitem__',\n",
       " '__gt__',\n",
       " '__hash__',\n",
       " '__iadd__',\n",
       " '__imul__',\n",
       " '__init__',\n",
       " '__init_subclass__',\n",
       " '__iter__',\n",
       " '__le__',\n",
       " '__len__',\n",
       " '__lt__',\n",
       " '__mul__',\n",
       " '__ne__',\n",
       " '__new__',\n",
       " '__reduce__',\n",
       " '__reduce_ex__',\n",
       " '__repr__',\n",
       " '__reversed__',\n",
       " '__rmul__',\n",
       " '__setattr__',\n",
       " '__setitem__',\n",
       " '__sizeof__',\n",
       " '__str__',\n",
       " '__subclasshook__',\n",
       " 'append',\n",
       " 'clear',\n",
       " 'copy',\n",
       " 'count',\n",
       " 'extend',\n",
       " 'index',\n",
       " 'insert',\n",
       " 'pop',\n",
       " 'remove',\n",
       " 'reverse',\n",
       " 'sort']"
      ]
     },
     "execution_count": 19,
     "metadata": {},
     "output_type": "execute_result"
    }
   ],
   "source": [
    "# List Methods\n",
    "a = []\n",
    "dir(list)\n",
    "dir(l1)\n",
    "dir(a)"
   ]
  },
  {
   "cell_type": "code",
   "execution_count": 23,
   "metadata": {},
   "outputs": [
    {
     "data": {
      "text/plain": [
       "[1, 2, 3, 4, 5, [6, 7]]"
      ]
     },
     "execution_count": 23,
     "metadata": {},
     "output_type": "execute_result"
    }
   ],
   "source": [
    "# append Method\n",
    "a = [1,2,3,4]\n",
    "a.append(5)\n",
    "a.append([6,7])\n",
    "a\n"
   ]
  },
  {
   "cell_type": "code",
   "execution_count": 29,
   "metadata": {},
   "outputs": [
    {
     "data": {
      "text/plain": [
       "[1, 2, 3, 4, 5, [6, 7], 8, 9, 10, 8, 9, 10, 8, 9, 10, 8, 9, 10]"
      ]
     },
     "execution_count": 29,
     "metadata": {},
     "output_type": "execute_result"
    }
   ],
   "source": [
    "# Extend\n",
    "a.extend([8,9,10])\n",
    "a[5]\n",
    "a"
   ]
  },
  {
   "cell_type": "code",
   "execution_count": 31,
   "metadata": {},
   "outputs": [
    {
     "data": {
      "text/plain": [
       "[1, 2, 3, 4, 5, [6, 7], 8, 9, 10, 8, 9, 10, 8, 9, 10, 8, 9, 10]"
      ]
     },
     "execution_count": 31,
     "metadata": {},
     "output_type": "execute_result"
    }
   ],
   "source": [
    "# Count\n",
    "a.count(1)\n",
    "a"
   ]
  },
  {
   "cell_type": "code",
   "execution_count": 40,
   "metadata": {},
   "outputs": [
    {
     "data": {
      "text/plain": [
       "[]"
      ]
     },
     "execution_count": 40,
     "metadata": {},
     "output_type": "execute_result"
    }
   ],
   "source": [
    "#count\n",
    "a = [1,2,3,4,5]\n",
    "a.append(6)\n",
    "a.append([7,8])\n",
    "a.extend([9,10,11,12])\n",
    "a.count(3)\n",
    "a.index(12)\n",
    "\n",
    "#Difference between pop,remove,clear,del\n",
    "\n",
    "a.pop()# by default last in firstout\n",
    "a.pop(0)# index based\n",
    "a.remove(2)# value based\n",
    "del a[0] # Removing Index Based\n",
    "a.clear() # Removing all values in list\n",
    "a"
   ]
  },
  {
   "cell_type": "code",
   "execution_count": 45,
   "metadata": {},
   "outputs": [
    {
     "data": {
      "text/plain": [
       "[1, 6, 9, 12, 56, 90]"
      ]
     },
     "execution_count": 45,
     "metadata": {},
     "output_type": "execute_result"
    }
   ],
   "source": [
    "# Sort and Reverse \n",
    "x=[1,6,9,12,56,90]\n",
    "# Sort\n",
    "x.sort()\n",
    "x\n",
    "\n"
   ]
  },
  {
   "cell_type": "code",
   "execution_count": 47,
   "metadata": {},
   "outputs": [
    {
     "data": {
      "text/plain": [
       "[90, 56, 12, 9, 6, 1]"
      ]
     },
     "execution_count": 47,
     "metadata": {},
     "output_type": "execute_result"
    }
   ],
   "source": [
    "# Reverse\n",
    "x.reverse()\n",
    "x"
   ]
  },
  {
   "cell_type": "code",
   "execution_count": 49,
   "metadata": {},
   "outputs": [
    {
     "data": {
      "text/plain": [
       "[1, 6, 9, 12, 56, 90]"
      ]
     },
     "execution_count": 49,
     "metadata": {},
     "output_type": "execute_result"
    }
   ],
   "source": [
    "x.reverse()\n",
    "x.sort(reverse=False)\n",
    "x"
   ]
  },
  {
   "cell_type": "code",
   "execution_count": 51,
   "metadata": {},
   "outputs": [
    {
     "data": {
      "text/plain": [
       "['a', 'e', 'i']"
      ]
     },
     "execution_count": 51,
     "metadata": {},
     "output_type": "execute_result"
    }
   ],
   "source": [
    "# Insert (position , value)\n",
    "vowles=['a','i']\n",
    "vowles.insert(1,'e')\n",
    "vowles\n"
   ]
  },
  {
   "cell_type": "code",
   "execution_count": null,
   "metadata": {
    "collapsed": true
   },
   "outputs": [],
   "source": []
  }
 ],
 "metadata": {
  "kernelspec": {
   "display_name": "Python 3",
   "language": "python",
   "name": "python3"
  },
  "language_info": {
   "codemirror_mode": {
    "name": "ipython",
    "version": 3
   },
   "file_extension": ".py",
   "mimetype": "text/x-python",
   "name": "python",
   "nbconvert_exporter": "python",
   "pygments_lexer": "ipython3",
   "version": "3.8.3"
  }
 },
 "nbformat": 4,
 "nbformat_minor": 4
}
